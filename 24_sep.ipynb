{
  "nbformat": 4,
  "nbformat_minor": 0,
  "metadata": {
    "colab": {
      "provenance": []
    },
    "kernelspec": {
      "name": "python3",
      "display_name": "Python 3"
    },
    "language_info": {
      "name": "python"
    }
  },
  "cells": [
    {
      "cell_type": "markdown",
      "source": [
        "# print statement"
      ],
      "metadata": {
        "id": "3UAHTcKdLGnO"
      }
    },
    {
      "cell_type": "code",
      "execution_count": null,
      "metadata": {
        "colab": {
          "base_uri": "https://localhost:8080/"
        },
        "id": "uqOZABEmBKgz",
        "outputId": "c832b3ab-e053-4b2d-b095-f0e0d8d71c25"
      },
      "outputs": [
        {
          "output_type": "stream",
          "name": "stdout",
          "text": [
            "hello neurons\n"
          ]
        }
      ],
      "source": [
        "print(\"hello neurons\")"
      ]
    },
    {
      "cell_type": "code",
      "source": [
        "print(\"greetings from ineuron\")\n",
        "print(\"good evening\")"
      ],
      "metadata": {
        "colab": {
          "base_uri": "https://localhost:8080/"
        },
        "id": "QB_lEyW3CYMs",
        "outputId": "2bc49202-1805-429f-86ad-301e0405b8d6"
      },
      "execution_count": null,
      "outputs": [
        {
          "output_type": "stream",
          "name": "stdout",
          "text": [
            "greetings from ineuron\n",
            "good evening\n"
          ]
        }
      ]
    },
    {
      "cell_type": "code",
      "source": [
        "Print(\"good evening\")"
      ],
      "metadata": {
        "colab": {
          "base_uri": "https://localhost:8080/",
          "height": 166
        },
        "id": "B-HRG40FDGGP",
        "outputId": "9d0e81e4-85c2-4bdd-b749-1c6e560cfabf"
      },
      "execution_count": null,
      "outputs": [
        {
          "output_type": "error",
          "ename": "NameError",
          "evalue": "ignored",
          "traceback": [
            "\u001b[0;31m---------------------------------------------------------------------------\u001b[0m",
            "\u001b[0;31mNameError\u001b[0m                                 Traceback (most recent call last)",
            "\u001b[0;32m<ipython-input-3-d5a6062267f6>\u001b[0m in \u001b[0;36m<module>\u001b[0;34m\u001b[0m\n\u001b[0;32m----> 1\u001b[0;31m \u001b[0mPrint\u001b[0m\u001b[0;34m(\u001b[0m\u001b[0;34m\"good evening\"\u001b[0m\u001b[0;34m)\u001b[0m\u001b[0;34m\u001b[0m\u001b[0;34m\u001b[0m\u001b[0m\n\u001b[0m",
            "\u001b[0;31mNameError\u001b[0m: name 'Print' is not defined"
          ]
        }
      ]
    },
    {
      "cell_type": "code",
      "source": [
        "print \"good evening\""
      ],
      "metadata": {
        "id": "J4UwcQUqDUSg",
        "colab": {
          "base_uri": "https://localhost:8080/",
          "height": 131
        },
        "outputId": "4d4bd9b1-164d-4b86-c4be-48beb0122c09"
      },
      "execution_count": null,
      "outputs": [
        {
          "output_type": "error",
          "ename": "SyntaxError",
          "evalue": "ignored",
          "traceback": [
            "\u001b[0;36m  File \u001b[0;32m\"<ipython-input-13-fcb5be13769c>\"\u001b[0;36m, line \u001b[0;32m1\u001b[0m\n\u001b[0;31m    print \"good evening\"\u001b[0m\n\u001b[0m          ^\u001b[0m\n\u001b[0;31mSyntaxError\u001b[0m\u001b[0;31m:\u001b[0m Missing parentheses in call to 'print'. Did you mean print(\"good evening\")?\n"
          ]
        }
      ]
    },
    {
      "cell_type": "code",
      "source": [
        "print(\"good \n",
        "evening\")"
      ],
      "metadata": {
        "id": "5DoSYcwCDbQ2",
        "colab": {
          "base_uri": "https://localhost:8080/",
          "height": 131
        },
        "outputId": "06a1e342-b471-48ba-aae8-003bc8c2c63f"
      },
      "execution_count": null,
      "outputs": [
        {
          "output_type": "error",
          "ename": "SyntaxError",
          "evalue": "ignored",
          "traceback": [
            "\u001b[0;36m  File \u001b[0;32m\"<ipython-input-14-dcdad6149c21>\"\u001b[0;36m, line \u001b[0;32m1\u001b[0m\n\u001b[0;31m    print(\"good\u001b[0m\n\u001b[0m                ^\u001b[0m\n\u001b[0;31mSyntaxError\u001b[0m\u001b[0;31m:\u001b[0m EOL while scanning string literal\n"
          ]
        }
      ]
    },
    {
      "cell_type": "code",
      "source": [
        "\"Good morning\"\n",
        "print(\"HI\")"
      ],
      "metadata": {
        "id": "YLQl7kpUEEW6",
        "colab": {
          "base_uri": "https://localhost:8080/"
        },
        "outputId": "5c7fab56-6bb3-4308-bf28-de9d207d80ff"
      },
      "execution_count": null,
      "outputs": [
        {
          "output_type": "stream",
          "name": "stdout",
          "text": [
            "HI\n"
          ]
        }
      ]
    },
    {
      "cell_type": "code",
      "source": [
        "print(\"\"\"good \n",
        "evening\"\"\")"
      ],
      "metadata": {
        "id": "ATvDyFwIERAv",
        "colab": {
          "base_uri": "https://localhost:8080/"
        },
        "outputId": "043eb6c8-bcf4-42d3-bdfd-f4d6520d63e8"
      },
      "execution_count": null,
      "outputs": [
        {
          "output_type": "stream",
          "name": "stdout",
          "text": [
            "good \n",
            "evening\n"
          ]
        }
      ]
    },
    {
      "cell_type": "code",
      "source": [
        "print(\"\"\"India, officially the Republic of India (Hindi: Bhārat Gaṇarājya),[25] is a country in South Asia. It is the seventh-largest country by area, the second-most populous country, and the most populous democracy in the world. Bounded by the Indian Ocean on the south, the Arabian Sea on the southwest, and the Bay of Bengal on the southeast, it shares land borders \n",
        "with Pakistan to the west;[f] China, Nepal, and Bhutan to the north; and Bangladesh and Myanmar to the east. In the Indian Ocean, India is in the vicinity of Sri Lanka and the Maldives; its Andaman and Nicobar Islands share a maritime border with Thailand, Myanmar, and Indonesia.\"\"\")"
      ],
      "metadata": {
        "colab": {
          "base_uri": "https://localhost:8080/"
        },
        "id": "TOauKTj3EkRR",
        "outputId": "e74cd0e7-12e7-4859-f58c-6dec20c43dff"
      },
      "execution_count": null,
      "outputs": [
        {
          "output_type": "stream",
          "name": "stdout",
          "text": [
            "India, officially the Republic of India (Hindi: Bhārat Gaṇarājya),[25] is a country in South Asia. It is the seventh-largest country by area, the second-most populous country, and the most populous democracy in the world. Bounded by the Indian Ocean on the south, the Arabian Sea on the southwest, and the Bay of Bengal on the southeast, it shares land borders \n",
            "with Pakistan to the west;[f] China, Nepal, and Bhutan to the north; and Bangladesh and Myanmar to the east. In the Indian Ocean, India is in the vicinity of Sri Lanka and the Maldives; its Andaman and Nicobar Islands share a maritime border with Thailand, Myanmar, and Indonesia.\n"
          ]
        }
      ]
    },
    {
      "cell_type": "code",
      "source": [
        "print(\"\"\"good \n",
        "eveing\n",
        "from\n",
        "india\"\"\")"
      ],
      "metadata": {
        "colab": {
          "base_uri": "https://localhost:8080/"
        },
        "id": "9PHPuhhWE4UA",
        "outputId": "8cf19b0f-550b-429a-9caf-bb2febc99146"
      },
      "execution_count": null,
      "outputs": [
        {
          "output_type": "stream",
          "name": "stdout",
          "text": [
            "good \n",
            "eveing\n",
            "from\n",
            "india\n"
          ]
        }
      ]
    },
    {
      "cell_type": "markdown",
      "source": [
        "# comments"
      ],
      "metadata": {
        "id": "OGwJvI-BLOTU"
      }
    },
    {
      "cell_type": "code",
      "source": [
        "# say hello to the student\n",
        "#print(\"hi student\")"
      ],
      "metadata": {
        "id": "teLG_XNbHmGq"
      },
      "execution_count": null,
      "outputs": []
    },
    {
      "cell_type": "code",
      "source": [
        "# say hello to the student\n",
        "#print(\"hi student\")"
      ],
      "metadata": {
        "id": "ZGuRGCqbJyh6"
      },
      "execution_count": null,
      "outputs": []
    },
    {
      "cell_type": "markdown",
      "source": [
        "# Multi line comments"
      ],
      "metadata": {
        "id": "vI4ek4mkLhqg"
      }
    },
    {
      "cell_type": "code",
      "source": [
        "\"\"\"\n",
        "say hu\n",
        "to the students\n",
        "\"\"\"\n",
        "print(\"hi students\")"
      ],
      "metadata": {
        "colab": {
          "base_uri": "https://localhost:8080/"
        },
        "id": "4On0tNVRLmxX",
        "outputId": "370314dc-43a1-434e-8484-aee4f7df4cb2"
      },
      "execution_count": null,
      "outputs": [
        {
          "output_type": "stream",
          "name": "stdout",
          "text": [
            "hi students\n"
          ]
        }
      ]
    },
    {
      "cell_type": "code",
      "source": [
        "# more exceptional cases in print statements\n"
      ],
      "metadata": {
        "id": "xaS2K5kcN-AY"
      },
      "execution_count": null,
      "outputs": []
    },
    {
      "cell_type": "code",
      "source": [
        "print(\"hi my name is \"mohit\" \")"
      ],
      "metadata": {
        "colab": {
          "base_uri": "https://localhost:8080/",
          "height": 131
        },
        "id": "JUf3KlkMOcQN",
        "outputId": "64f5897c-88c2-4ef2-fd79-6c317dd52e4e"
      },
      "execution_count": null,
      "outputs": [
        {
          "output_type": "error",
          "ename": "SyntaxError",
          "evalue": "ignored",
          "traceback": [
            "\u001b[0;36m  File \u001b[0;32m\"<ipython-input-12-fd735117bd72>\"\u001b[0;36m, line \u001b[0;32m1\u001b[0m\n\u001b[0;31m    print(\"hi my name is \"mohit\" \")\u001b[0m\n\u001b[0m                          ^\u001b[0m\n\u001b[0;31mSyntaxError\u001b[0m\u001b[0;31m:\u001b[0m invalid syntax\n"
          ]
        }
      ]
    },
    {
      "cell_type": "code",
      "source": [
        "print('hi my name is \"mohit\" ')"
      ],
      "metadata": {
        "id": "SqtgKyeNOmwG",
        "colab": {
          "base_uri": "https://localhost:8080/"
        },
        "outputId": "6f9d3b80-d7bc-4dff-cc3e-61865941a8e2"
      },
      "execution_count": null,
      "outputs": [
        {
          "output_type": "stream",
          "name": "stdout",
          "text": [
            "hi my name is \"mohit\" \n"
          ]
        }
      ]
    },
    {
      "cell_type": "code",
      "source": [
        "print(\" hi my name is 'mohit' \")"
      ],
      "metadata": {
        "id": "fbkANPwIOuEt",
        "colab": {
          "base_uri": "https://localhost:8080/"
        },
        "outputId": "8b28426a-1bdf-46b0-e0c4-f4cf05a06603"
      },
      "execution_count": null,
      "outputs": [
        {
          "output_type": "stream",
          "name": "stdout",
          "text": [
            " hi my name is 'mohit' \n"
          ]
        }
      ]
    },
    {
      "cell_type": "code",
      "source": [
        "print(\"\"\"hi my name is \"mohit\" \"\"\")"
      ],
      "metadata": {
        "id": "Tssbw_JFO22F",
        "colab": {
          "base_uri": "https://localhost:8080/"
        },
        "outputId": "1e29ec39-1d62-4cbd-fdfe-67af8e341f16"
      },
      "execution_count": null,
      "outputs": [
        {
          "output_type": "stream",
          "name": "stdout",
          "text": [
            "hi my name is \"mohit\" \n"
          ]
        }
      ]
    },
    {
      "cell_type": "code",
      "source": [
        "print(\"\"\"hi my name is \"mohit\"! \"\"\")"
      ],
      "metadata": {
        "id": "VYuk5vN8PLfp",
        "colab": {
          "base_uri": "https://localhost:8080/"
        },
        "outputId": "10824ec4-d820-484f-db29-d08d3106a73e"
      },
      "execution_count": null,
      "outputs": [
        {
          "output_type": "stream",
          "name": "stdout",
          "text": [
            "hi my name is \"mohit\"! \n"
          ]
        }
      ]
    },
    {
      "cell_type": "code",
      "source": [
        "123 + 245  # sum of two number"
      ],
      "metadata": {
        "id": "sr65b3kOPp-1",
        "colab": {
          "base_uri": "https://localhost:8080/"
        },
        "outputId": "08c7363a-a72f-45ca-fb09-9f9759f8db06"
      },
      "execution_count": null,
      "outputs": [
        {
          "output_type": "execute_result",
          "data": {
            "text/plain": [
              "368"
            ]
          },
          "metadata": {},
          "execution_count": 19
        }
      ]
    },
    {
      "cell_type": "code",
      "source": [
        "123 * 245"
      ],
      "metadata": {
        "id": "ecRzHV6UJ4ZK",
        "colab": {
          "base_uri": "https://localhost:8080/"
        },
        "outputId": "7924c8d4-9d5a-40c7-ee7b-30439da3a65d"
      },
      "execution_count": null,
      "outputs": [
        {
          "output_type": "execute_result",
          "data": {
            "text/plain": [
              "30135"
            ]
          },
          "metadata": {},
          "execution_count": 20
        }
      ]
    },
    {
      "cell_type": "code",
      "source": [
        "123/245"
      ],
      "metadata": {
        "id": "sEiLVWkjQaN4",
        "colab": {
          "base_uri": "https://localhost:8080/"
        },
        "outputId": "ae197ff3-a5ff-46fd-895a-7e272ebabe1e"
      },
      "execution_count": null,
      "outputs": [
        {
          "output_type": "execute_result",
          "data": {
            "text/plain": [
              "0.5020408163265306"
            ]
          },
          "metadata": {},
          "execution_count": 22
        }
      ]
    },
    {
      "cell_type": "code",
      "source": [
        "123 ** 2 # power of 123 raised to 2"
      ],
      "metadata": {
        "id": "4QF6kKLpQd7N",
        "colab": {
          "base_uri": "https://localhost:8080/"
        },
        "outputId": "d1c3b1ad-79a1-4f02-fd9a-f830eeaeb009"
      },
      "execution_count": null,
      "outputs": [
        {
          "output_type": "execute_result",
          "data": {
            "text/plain": [
              "15129"
            ]
          },
          "metadata": {},
          "execution_count": 21
        }
      ]
    },
    {
      "cell_type": "code",
      "source": [
        "(-123 ** 2)"
      ],
      "metadata": {
        "id": "9o65ehnIQxx0",
        "colab": {
          "base_uri": "https://localhost:8080/"
        },
        "outputId": "1f41e5ee-76b8-49bd-ac2d-e3a35561322c"
      },
      "execution_count": null,
      "outputs": [
        {
          "output_type": "execute_result",
          "data": {
            "text/plain": [
              "-15129"
            ]
          },
          "metadata": {},
          "execution_count": 23
        }
      ]
    },
    {
      "cell_type": "code",
      "source": [
        "123 % 2 # modulo operator which gives you reminder"
      ],
      "metadata": {
        "id": "07AdmhbTQj3k",
        "colab": {
          "base_uri": "https://localhost:8080/"
        },
        "outputId": "c70bfde4-874d-44e1-f6a5-f7195b96721a"
      },
      "execution_count": null,
      "outputs": [
        {
          "output_type": "execute_result",
          "data": {
            "text/plain": [
              "1"
            ]
          },
          "metadata": {},
          "execution_count": 24
        }
      ]
    },
    {
      "cell_type": "code",
      "source": [
        "122 % 2"
      ],
      "metadata": {
        "id": "hfcNeStYQsn8",
        "colab": {
          "base_uri": "https://localhost:8080/"
        },
        "outputId": "da2c9213-9f8a-4f36-90c0-a00397f85312"
      },
      "execution_count": null,
      "outputs": [
        {
          "output_type": "execute_result",
          "data": {
            "text/plain": [
              "0"
            ]
          },
          "metadata": {},
          "execution_count": 25
        }
      ]
    },
    {
      "cell_type": "code",
      "source": [
        "print(123 * 245)\n",
        "print(f\" result of multiplication of two number :{123 * 546} \" )"
      ],
      "metadata": {
        "id": "HU2bio95Qutb",
        "colab": {
          "base_uri": "https://localhost:8080/"
        },
        "outputId": "ad9e869a-18d9-4a97-f114-ab34336f5544"
      },
      "execution_count": null,
      "outputs": [
        {
          "output_type": "stream",
          "name": "stdout",
          "text": [
            "30135\n",
            " result of multiplication of two number :67158 \n"
          ]
        }
      ]
    },
    {
      "cell_type": "code",
      "source": [
        "print(\"123 * 245\")\n",
        "print(\"result\")"
      ],
      "metadata": {
        "id": "eJe4JdQERCy7",
        "colab": {
          "base_uri": "https://localhost:8080/"
        },
        "outputId": "b6bd64cf-a08a-4021-c1b8-4e0801a18d1e"
      },
      "execution_count": null,
      "outputs": [
        {
          "output_type": "stream",
          "name": "stdout",
          "text": [
            "123 * 245\n",
            "result\n"
          ]
        }
      ]
    },
    {
      "cell_type": "markdown",
      "source": [
        "# variables in python\n",
        "## variables in python\n",
        "### variables in python\n",
        "#### variables in python\n",
        "##### variables in python"
      ],
      "metadata": {
        "id": "noKL7k7WRh9I"
      }
    },
    {
      "cell_type": "markdown",
      "source": [
        "# variables in python"
      ],
      "metadata": {
        "id": "Xp15yLx1Se5f"
      }
    },
    {
      "cell_type": "code",
      "source": [
        "x = 10"
      ],
      "metadata": {
        "id": "lZwNr9xARlF8"
      },
      "execution_count": null,
      "outputs": []
    },
    {
      "cell_type": "code",
      "source": [
        "print(x)"
      ],
      "metadata": {
        "id": "YyVH_sIzSpQA",
        "colab": {
          "base_uri": "https://localhost:8080/"
        },
        "outputId": "8685d5e7-0a63-411e-a24c-703ce8afd2a5"
      },
      "execution_count": null,
      "outputs": [
        {
          "output_type": "stream",
          "name": "stdout",
          "text": [
            "10\n"
          ]
        }
      ]
    },
    {
      "cell_type": "code",
      "source": [
        "y = 20"
      ],
      "metadata": {
        "id": "c0l-9LWdStqj"
      },
      "execution_count": null,
      "outputs": []
    },
    {
      "cell_type": "code",
      "source": [
        "print(y)"
      ],
      "metadata": {
        "id": "EKguxNp1Sy_j",
        "colab": {
          "base_uri": "https://localhost:8080/"
        },
        "outputId": "02a5865f-dcf4-483d-bb70-a9679cbea87c"
      },
      "execution_count": null,
      "outputs": [
        {
          "output_type": "stream",
          "name": "stdout",
          "text": [
            "20\n"
          ]
        }
      ]
    },
    {
      "cell_type": "code",
      "source": [
        "print(x + y)"
      ],
      "metadata": {
        "id": "0b8DBqONS1Pg",
        "colab": {
          "base_uri": "https://localhost:8080/"
        },
        "outputId": "f6c2cf1f-6c3b-4f84-c298-669262187c7d"
      },
      "execution_count": null,
      "outputs": [
        {
          "output_type": "stream",
          "name": "stdout",
          "text": [
            "30\n"
          ]
        }
      ]
    },
    {
      "cell_type": "code",
      "source": [
        "print(x/y)"
      ],
      "metadata": {
        "id": "OEJkifgYS4Pt",
        "colab": {
          "base_uri": "https://localhost:8080/"
        },
        "outputId": "b5175090-0e99-467d-b2f3-efa7be14b7f6"
      },
      "execution_count": null,
      "outputs": [
        {
          "output_type": "stream",
          "name": "stdout",
          "text": [
            "0.5\n"
          ]
        }
      ]
    },
    {
      "cell_type": "markdown",
      "source": [
        "1. variable name should start with alphabet\n",
        "\n",
        "\n"
      ],
      "metadata": {
        "id": "GLn0Dy9tTEEF"
      }
    },
    {
      "cell_type": "code",
      "source": [
        "ten = 10\n",
        "ten_number = 10\n",
        "tenNumber = 10"
      ],
      "metadata": {
        "id": "s8QyEaL-1csh"
      },
      "execution_count": null,
      "outputs": []
    },
    {
      "cell_type": "markdown",
      "source": [
        "2. variable name should not contain any special character like ^ % $ ! #\n",
        "    & * ()\n"
      ],
      "metadata": {
        "id": "eBnUFde3Uyqa"
      }
    },
    {
      "cell_type": "code",
      "source": [
        "ten* = 10"
      ],
      "metadata": {
        "id": "RuSRaI1F1nuG",
        "colab": {
          "base_uri": "https://localhost:8080/",
          "height": 131
        },
        "outputId": "abf0667a-d063-4333-c994-89d3e5735f02"
      },
      "execution_count": null,
      "outputs": [
        {
          "output_type": "error",
          "ename": "SyntaxError",
          "evalue": "ignored",
          "traceback": [
            "\u001b[0;36m  File \u001b[0;32m\"<ipython-input-35-186f8d3ec400>\"\u001b[0;36m, line \u001b[0;32m1\u001b[0m\n\u001b[0;31m    ten* = 10\u001b[0m\n\u001b[0m         ^\u001b[0m\n\u001b[0;31mSyntaxError\u001b[0m\u001b[0;31m:\u001b[0m invalid syntax\n"
          ]
        }
      ]
    },
    {
      "cell_type": "code",
      "source": [
        "ten%number =  10"
      ],
      "metadata": {
        "id": "LDYeRVUZ2IQQ",
        "colab": {
          "base_uri": "https://localhost:8080/",
          "height": 131
        },
        "outputId": "ec1288c9-0aa6-4d69-fbec-af3c48f2c778"
      },
      "execution_count": null,
      "outputs": [
        {
          "output_type": "error",
          "ename": "SyntaxError",
          "evalue": "ignored",
          "traceback": [
            "\u001b[0;36m  File \u001b[0;32m\"<ipython-input-36-51d5f791fe46>\"\u001b[0;36m, line \u001b[0;32m1\u001b[0m\n\u001b[0;31m    ten%number =  10\u001b[0m\n\u001b[0m    ^\u001b[0m\n\u001b[0;31mSyntaxError\u001b[0m\u001b[0;31m:\u001b[0m cannot assign to operator\n"
          ]
        }
      ]
    },
    {
      "cell_type": "code",
      "source": [
        "ten = 10\n",
        "ten_number = 10\n",
        "ten%number = 10\n",
        "tenNumber = 10"
      ],
      "metadata": {
        "id": "AHyhawUs2R6t",
        "colab": {
          "base_uri": "https://localhost:8080/",
          "height": 131
        },
        "outputId": "ad723aff-465d-469a-8ca3-936be49cfb05"
      },
      "execution_count": null,
      "outputs": [
        {
          "output_type": "error",
          "ename": "SyntaxError",
          "evalue": "ignored",
          "traceback": [
            "\u001b[0;36m  File \u001b[0;32m\"<ipython-input-37-400ff1eaa21e>\"\u001b[0;36m, line \u001b[0;32m3\u001b[0m\n\u001b[0;31m    ten%number = 10\u001b[0m\n\u001b[0m    ^\u001b[0m\n\u001b[0;31mSyntaxError\u001b[0m\u001b[0;31m:\u001b[0m cannot assign to operator\n"
          ]
        }
      ]
    },
    {
      "cell_type": "code",
      "source": [
        "ten = 10\n",
        "ten_number = 10\n",
        "ten%number = 10\n",
        "tenNumber = 10"
      ],
      "metadata": {
        "id": "9vuVUkY72w2R",
        "colab": {
          "base_uri": "https://localhost:8080/",
          "height": 131
        },
        "outputId": "8cf10a81-94a7-44b1-fe6c-2c8ed4d289bf"
      },
      "execution_count": null,
      "outputs": [
        {
          "output_type": "error",
          "ename": "SyntaxError",
          "evalue": "ignored",
          "traceback": [
            "\u001b[0;36m  File \u001b[0;32m\"<ipython-input-3-400ff1eaa21e>\"\u001b[0;36m, line \u001b[0;32m3\u001b[0m\n\u001b[0;31m    ten%number = 10\u001b[0m\n\u001b[0m    ^\u001b[0m\n\u001b[0;31mSyntaxError\u001b[0m\u001b[0;31m:\u001b[0m cannot assign to operator\n"
          ]
        }
      ]
    },
    {
      "cell_type": "markdown",
      "source": [
        "3. variable name can contain number. but you can't start with numbers\n"
      ],
      "metadata": {
        "id": "N8QU9O2zU2Hg"
      }
    },
    {
      "cell_type": "code",
      "source": [
        "ten10 = 10\n"
      ],
      "metadata": {
        "id": "EVeC9uBK2_q3"
      },
      "execution_count": null,
      "outputs": []
    },
    {
      "cell_type": "code",
      "source": [
        "10ten = 10"
      ],
      "metadata": {
        "id": "ZcSEWHCG3GC5",
        "colab": {
          "base_uri": "https://localhost:8080/",
          "height": 131
        },
        "outputId": "b1dc009e-52f8-4bfe-ffab-ce2c4de7dd36"
      },
      "execution_count": null,
      "outputs": [
        {
          "output_type": "error",
          "ename": "SyntaxError",
          "evalue": "ignored",
          "traceback": [
            "\u001b[0;36m  File \u001b[0;32m\"<ipython-input-40-c508e1cc1cd5>\"\u001b[0;36m, line \u001b[0;32m1\u001b[0m\n\u001b[0;31m    10ten = 10\u001b[0m\n\u001b[0m      ^\u001b[0m\n\u001b[0;31mSyntaxError\u001b[0m\u001b[0;31m:\u001b[0m invalid syntax\n"
          ]
        }
      ]
    },
    {
      "cell_type": "code",
      "source": [
        "_num = 10 # hidden variable"
      ],
      "metadata": {
        "id": "4k7S6qL23KQN"
      },
      "execution_count": null,
      "outputs": []
    },
    {
      "cell_type": "markdown",
      "source": [
        "4. its not a strict rule that you should variable name with a capital letter.but its recommanded to use small letters for the variable"
      ],
      "metadata": {
        "id": "kU_EqG2cU4fK"
      }
    },
    {
      "cell_type": "code",
      "source": [
        "Ten = 10"
      ],
      "metadata": {
        "id": "WKz6C1ypS6vU"
      },
      "execution_count": null,
      "outputs": []
    },
    {
      "cell_type": "code",
      "source": [
        "ten number =  10"
      ],
      "metadata": {
        "id": "2yid8bBoBn6O",
        "colab": {
          "base_uri": "https://localhost:8080/",
          "height": 131
        },
        "outputId": "5ecdd47d-e773-4780-e18c-7e9b6a4b54f0"
      },
      "execution_count": null,
      "outputs": [
        {
          "output_type": "error",
          "ename": "SyntaxError",
          "evalue": "ignored",
          "traceback": [
            "\u001b[0;36m  File \u001b[0;32m\"<ipython-input-43-7e911fffd54b>\"\u001b[0;36m, line \u001b[0;32m1\u001b[0m\n\u001b[0;31m    ten number =  10\u001b[0m\n\u001b[0m        ^\u001b[0m\n\u001b[0;31mSyntaxError\u001b[0m\u001b[0;31m:\u001b[0m invalid syntax\n"
          ]
        }
      ]
    },
    {
      "cell_type": "code",
      "source": [
        "ten_number = 10"
      ],
      "metadata": {
        "id": "0_m8bk2OBwxd"
      },
      "execution_count": null,
      "outputs": []
    },
    {
      "cell_type": "code",
      "source": [
        "_ = 10 # dummy variable"
      ],
      "metadata": {
        "id": "MfPAnQFaQH2K"
      },
      "execution_count": null,
      "outputs": []
    },
    {
      "cell_type": "markdown",
      "source": [
        "# fundamental data types"
      ],
      "metadata": {
        "id": "Y_uFZshZPreS"
      }
    },
    {
      "cell_type": "markdown",
      "source": [
        "# integers"
      ],
      "metadata": {
        "id": "Ee7HrehGQBV9"
      }
    },
    {
      "cell_type": "code",
      "source": [
        "a = 7 "
      ],
      "metadata": {
        "id": "KR8NOXKnB28G"
      },
      "execution_count": null,
      "outputs": []
    },
    {
      "cell_type": "code",
      "source": [
        "type(a)"
      ],
      "metadata": {
        "id": "fcBILERNQTQw",
        "colab": {
          "base_uri": "https://localhost:8080/"
        },
        "outputId": "54f4810b-20d8-4f3d-b72d-565d4ba74bf7"
      },
      "execution_count": null,
      "outputs": [
        {
          "output_type": "execute_result",
          "data": {
            "text/plain": [
              "int"
            ]
          },
          "metadata": {},
          "execution_count": 47
        }
      ]
    },
    {
      "cell_type": "code",
      "source": [
        "b = 7777"
      ],
      "metadata": {
        "id": "mEiyzK95QWw3"
      },
      "execution_count": null,
      "outputs": []
    },
    {
      "cell_type": "code",
      "source": [
        "type(b)"
      ],
      "metadata": {
        "id": "q7eHfot8QbYL",
        "colab": {
          "base_uri": "https://localhost:8080/"
        },
        "outputId": "09ea30ce-378a-4d85-ba02-5d097e2a4d4e"
      },
      "execution_count": null,
      "outputs": [
        {
          "output_type": "execute_result",
          "data": {
            "text/plain": [
              "int"
            ]
          },
          "metadata": {},
          "execution_count": 49
        }
      ]
    },
    {
      "cell_type": "markdown",
      "source": [
        "# floats - numbers containing decimal numbers"
      ],
      "metadata": {
        "id": "-W9t3rURQjb9"
      }
    },
    {
      "cell_type": "code",
      "source": [
        "pi = 3.14"
      ],
      "metadata": {
        "id": "JlYXsIFXQeSH"
      },
      "execution_count": null,
      "outputs": []
    },
    {
      "cell_type": "code",
      "source": [
        "type(pi)"
      ],
      "metadata": {
        "id": "FwkadUrrQrGu",
        "colab": {
          "base_uri": "https://localhost:8080/"
        },
        "outputId": "9bf79b2b-21d2-466a-8090-49bd90bc06a2"
      },
      "execution_count": null,
      "outputs": [
        {
          "output_type": "execute_result",
          "data": {
            "text/plain": [
              "float"
            ]
          },
          "metadata": {},
          "execution_count": 51
        }
      ]
    },
    {
      "cell_type": "code",
      "source": [
        "pi = 22/7\n",
        "pi"
      ],
      "metadata": {
        "id": "HJlvOrT_Q1AE",
        "colab": {
          "base_uri": "https://localhost:8080/"
        },
        "outputId": "bd6fab72-2150-4b08-a193-01898955eeb1"
      },
      "execution_count": null,
      "outputs": [
        {
          "output_type": "execute_result",
          "data": {
            "text/plain": [
              "3.142857142857143"
            ]
          },
          "metadata": {},
          "execution_count": 52
        }
      ]
    },
    {
      "cell_type": "code",
      "source": [
        "type(pi)"
      ],
      "metadata": {
        "id": "5vwT1T-rQ7RI",
        "colab": {
          "base_uri": "https://localhost:8080/"
        },
        "outputId": "ab0a22db-fe93-41dd-eb0f-bf3705df48b4"
      },
      "execution_count": null,
      "outputs": [
        {
          "output_type": "execute_result",
          "data": {
            "text/plain": [
              "float"
            ]
          },
          "metadata": {},
          "execution_count": 53
        }
      ]
    },
    {
      "cell_type": "code",
      "source": [
        "x =2.0"
      ],
      "metadata": {
        "id": "8nQdGolcQtK-"
      },
      "execution_count": null,
      "outputs": []
    },
    {
      "cell_type": "code",
      "source": [
        "type(x)"
      ],
      "metadata": {
        "id": "kq4e8BpHQv8F",
        "colab": {
          "base_uri": "https://localhost:8080/"
        },
        "outputId": "99704443-a58b-4b13-8b30-9b34daf41b6d"
      },
      "execution_count": null,
      "outputs": [
        {
          "output_type": "execute_result",
          "data": {
            "text/plain": [
              "float"
            ]
          },
          "metadata": {},
          "execution_count": 55
        }
      ]
    },
    {
      "cell_type": "markdown",
      "source": [
        "# complex numbers "
      ],
      "metadata": {
        "id": "qaG4enTrRGIW"
      }
    },
    {
      "cell_type": "code",
      "source": [
        "a= 2+3j\n",
        "a"
      ],
      "metadata": {
        "id": "dWNXsIc1QxfD",
        "colab": {
          "base_uri": "https://localhost:8080/"
        },
        "outputId": "386e1a61-f485-4fb9-89cb-fb282db53367"
      },
      "execution_count": null,
      "outputs": [
        {
          "output_type": "execute_result",
          "data": {
            "text/plain": [
              "(2+3j)"
            ]
          },
          "metadata": {},
          "execution_count": 56
        }
      ]
    },
    {
      "cell_type": "code",
      "source": [
        "type(a)"
      ],
      "metadata": {
        "id": "KAgpzjCxRMZZ",
        "colab": {
          "base_uri": "https://localhost:8080/"
        },
        "outputId": "87bb5433-a463-499c-cd13-a40a8a7d310e"
      },
      "execution_count": null,
      "outputs": [
        {
          "output_type": "execute_result",
          "data": {
            "text/plain": [
              "complex"
            ]
          },
          "metadata": {},
          "execution_count": 57
        }
      ]
    },
    {
      "cell_type": "code",
      "source": [
        "a.real"
      ],
      "metadata": {
        "id": "MWIlGRBQRPG_",
        "colab": {
          "base_uri": "https://localhost:8080/"
        },
        "outputId": "fe5dddd2-576d-4524-c9dd-7dd3b49378e5"
      },
      "execution_count": null,
      "outputs": [
        {
          "output_type": "execute_result",
          "data": {
            "text/plain": [
              "2.0"
            ]
          },
          "metadata": {},
          "execution_count": 58
        }
      ]
    },
    {
      "cell_type": "code",
      "source": [
        "a.imag"
      ],
      "metadata": {
        "id": "n7cznDHWSmsJ",
        "colab": {
          "base_uri": "https://localhost:8080/"
        },
        "outputId": "f9b488bd-3b5e-4b9c-a3fe-f61953129c74"
      },
      "execution_count": null,
      "outputs": [
        {
          "output_type": "execute_result",
          "data": {
            "text/plain": [
              "3.0"
            ]
          },
          "metadata": {},
          "execution_count": 59
        }
      ]
    },
    {
      "cell_type": "markdown",
      "source": [
        "# dynamic typing  = change the data type over the run time"
      ],
      "metadata": {
        "id": "wwcda8dtSxtS"
      }
    },
    {
      "cell_type": "markdown",
      "source": [
        "'''\n",
        "int a = 22;\n"
      ],
      "metadata": {
        "id": "kFyoO4rYTusB"
      }
    },
    {
      "cell_type": "code",
      "source": [
        "a = 22\n",
        "print(type(a))\n",
        "a = 22.2\n",
        "print(type(a))\n",
        "a = \"mohit\"\n",
        "print(type(a))"
      ],
      "metadata": {
        "id": "DrvlmYd7SqAl",
        "colab": {
          "base_uri": "https://localhost:8080/"
        },
        "outputId": "69ad6701-dd87-4293-dcb2-55140c141b46"
      },
      "execution_count": null,
      "outputs": [
        {
          "output_type": "stream",
          "name": "stdout",
          "text": [
            "<class 'int'>\n",
            "<class 'float'>\n",
            "<class 'str'>\n"
          ]
        }
      ]
    },
    {
      "cell_type": "code",
      "source": [
        "print(a)"
      ],
      "metadata": {
        "id": "gDogJNH-UAYQ",
        "colab": {
          "base_uri": "https://localhost:8080/"
        },
        "outputId": "21e73bc7-5b7d-432b-fa37-83ee060893fa"
      },
      "execution_count": null,
      "outputs": [
        {
          "output_type": "stream",
          "name": "stdout",
          "text": [
            "mohit\n"
          ]
        }
      ]
    },
    {
      "cell_type": "markdown",
      "source": [
        "# strong typing"
      ],
      "metadata": {
        "id": "cvrEYpo6V8XS"
      }
    },
    {
      "cell_type": "code",
      "source": [
        "\"Day \" + 1"
      ],
      "metadata": {
        "id": "vrCyug1lVNkx",
        "colab": {
          "base_uri": "https://localhost:8080/",
          "height": 166
        },
        "outputId": "e9b54108-dbee-4132-d220-bb8750e9536d"
      },
      "execution_count": null,
      "outputs": [
        {
          "output_type": "error",
          "ename": "TypeError",
          "evalue": "ignored",
          "traceback": [
            "\u001b[0;31m---------------------------------------------------------------------------\u001b[0m",
            "\u001b[0;31mTypeError\u001b[0m                                 Traceback (most recent call last)",
            "\u001b[0;32m<ipython-input-62-f9dbf96c2523>\u001b[0m in \u001b[0;36m<module>\u001b[0;34m\u001b[0m\n\u001b[0;32m----> 1\u001b[0;31m \u001b[0;34m\"Day \"\u001b[0m \u001b[0;34m+\u001b[0m \u001b[0;36m1\u001b[0m\u001b[0;34m\u001b[0m\u001b[0;34m\u001b[0m\u001b[0m\n\u001b[0m",
            "\u001b[0;31mTypeError\u001b[0m: can only concatenate str (not \"int\") to str"
          ]
        }
      ]
    },
    {
      "cell_type": "code",
      "source": [
        "\" Day \" + \"1\""
      ],
      "metadata": {
        "id": "LO4qIue8WbD3",
        "colab": {
          "base_uri": "https://localhost:8080/",
          "height": 35
        },
        "outputId": "68c42dfa-6e4b-4bc9-fe1d-cabd22fc52bd"
      },
      "execution_count": null,
      "outputs": [
        {
          "output_type": "execute_result",
          "data": {
            "text/plain": [
              "' Day 1'"
            ],
            "application/vnd.google.colaboratory.intrinsic+json": {
              "type": "string"
            }
          },
          "metadata": {},
          "execution_count": 63
        }
      ]
    },
    {
      "cell_type": "code",
      "source": [
        "22 + 22"
      ],
      "metadata": {
        "id": "BZS5TWd8W34n",
        "colab": {
          "base_uri": "https://localhost:8080/"
        },
        "outputId": "57c2146e-8d5c-4cec-d816-9f9eaca3ff25"
      },
      "execution_count": null,
      "outputs": [
        {
          "output_type": "execute_result",
          "data": {
            "text/plain": [
              "44"
            ]
          },
          "metadata": {},
          "execution_count": 64
        }
      ]
    },
    {
      "cell_type": "code",
      "source": [
        "\"22\"+\"22\""
      ],
      "metadata": {
        "id": "79QgJy52WgBe",
        "colab": {
          "base_uri": "https://localhost:8080/",
          "height": 35
        },
        "outputId": "b7a11a8e-3b0e-4263-f47f-93ef3aef0dbd"
      },
      "execution_count": null,
      "outputs": [
        {
          "output_type": "execute_result",
          "data": {
            "text/plain": [
              "'2222'"
            ],
            "application/vnd.google.colaboratory.intrinsic+json": {
              "type": "string"
            }
          },
          "metadata": {},
          "execution_count": 65
        }
      ]
    },
    {
      "cell_type": "code",
      "source": [
        "22 + \"22\""
      ],
      "metadata": {
        "id": "jOPqBg8cXET-",
        "colab": {
          "base_uri": "https://localhost:8080/",
          "height": 166
        },
        "outputId": "1f15f07b-5c70-44f2-a9ad-2cc28ced840e"
      },
      "execution_count": null,
      "outputs": [
        {
          "output_type": "error",
          "ename": "TypeError",
          "evalue": "ignored",
          "traceback": [
            "\u001b[0;31m---------------------------------------------------------------------------\u001b[0m",
            "\u001b[0;31mTypeError\u001b[0m                                 Traceback (most recent call last)",
            "\u001b[0;32m<ipython-input-66-11469b07b681>\u001b[0m in \u001b[0;36m<module>\u001b[0;34m\u001b[0m\n\u001b[0;32m----> 1\u001b[0;31m \u001b[0;36m22\u001b[0m \u001b[0;34m+\u001b[0m \u001b[0;34m\"22\"\u001b[0m\u001b[0;34m\u001b[0m\u001b[0;34m\u001b[0m\u001b[0m\n\u001b[0m",
            "\u001b[0;31mTypeError\u001b[0m: unsupported operand type(s) for +: 'int' and 'str'"
          ]
        }
      ]
    },
    {
      "cell_type": "code",
      "source": [
        "\"mohit \" + \"yadav\""
      ],
      "metadata": {
        "id": "5ZNg05deWnY_",
        "colab": {
          "base_uri": "https://localhost:8080/",
          "height": 35
        },
        "outputId": "9b4acdfe-8f05-483e-a0d4-d0cde789f26b"
      },
      "execution_count": null,
      "outputs": [
        {
          "output_type": "execute_result",
          "data": {
            "text/plain": [
              "'mohit yadav'"
            ],
            "application/vnd.google.colaboratory.intrinsic+json": {
              "type": "string"
            }
          },
          "metadata": {},
          "execution_count": 67
        }
      ]
    },
    {
      "cell_type": "code",
      "source": [
        "22.2 + 2"
      ],
      "metadata": {
        "id": "krjbXwtHWtj5",
        "colab": {
          "base_uri": "https://localhost:8080/"
        },
        "outputId": "d2623868-9005-43ff-fa57-762d3b0bd974"
      },
      "execution_count": null,
      "outputs": [
        {
          "output_type": "execute_result",
          "data": {
            "text/plain": [
              "24.2"
            ]
          },
          "metadata": {},
          "execution_count": 14
        }
      ]
    },
    {
      "cell_type": "code",
      "source": [
        "a = 1 # integer data type\n",
        "b = 1.2 # float data type\n",
        "c = \"mohit\" # string data type\n",
        "d = 1 + 2j # complex data type # rarely used"
      ],
      "metadata": {
        "id": "UhpVXXkUXLU0"
      },
      "execution_count": null,
      "outputs": []
    },
    {
      "cell_type": "code",
      "source": [
        "print(\"Hi welcome to class of python language\")"
      ],
      "metadata": {
        "id": "TlsJunvZXTwS",
        "colab": {
          "base_uri": "https://localhost:8080/"
        },
        "outputId": "2eb85980-ea2c-45d6-cc30-ced79ea273a5"
      },
      "execution_count": null,
      "outputs": [
        {
          "output_type": "stream",
          "name": "stdout",
          "text": [
            "Hi welcome to class of python language\n"
          ]
        }
      ]
    },
    {
      "cell_type": "code",
      "source": [
        "print(\"Hi welcome to class of java language\")"
      ],
      "metadata": {
        "id": "MrmZ-todX4Us",
        "colab": {
          "base_uri": "https://localhost:8080/"
        },
        "outputId": "bc72c222-77af-4dfd-9047-aaa49e1dbb8c"
      },
      "execution_count": null,
      "outputs": [
        {
          "output_type": "stream",
          "name": "stdout",
          "text": [
            "Hi welcome to class of java language\n"
          ]
        }
      ]
    },
    {
      "cell_type": "code",
      "source": [
        "language = \"python\"\n",
        "print(\"Hi welcome to class of \" + language + \" language\") # allowed but rarely used"
      ],
      "metadata": {
        "id": "TWR5nxL5X85S",
        "colab": {
          "base_uri": "https://localhost:8080/"
        },
        "outputId": "6f7a9452-0926-4af9-f7f9-5a981bfe9f5a"
      },
      "execution_count": null,
      "outputs": [
        {
          "output_type": "stream",
          "name": "stdout",
          "text": [
            "Hi welcome to class of python language\n"
          ]
        }
      ]
    },
    {
      "cell_type": "code",
      "source": [
        "# f -> formatting string method\n",
        "language = \"python\"\n",
        "print(f\"Hi welcome to class of {language} language\")   # f is used to cover fill space\n",
        "                                                       # current standard approach used in python"
      ],
      "metadata": {
        "id": "cczoiN1sZz8B",
        "colab": {
          "base_uri": "https://localhost:8080/"
        },
        "outputId": "4aa6e641-fe2a-466f-95de-9deedc55cafe"
      },
      "execution_count": null,
      "outputs": [
        {
          "output_type": "stream",
          "name": "stdout",
          "text": [
            "Hi welcome to class of python language\n"
          ]
        }
      ]
    },
    {
      "cell_type": "code",
      "source": [
        "language = \"python\"\n",
        "print(\"Hi welcome to class of {} language\". format(language)) # old way"
      ],
      "metadata": {
        "id": "410gVYPgdDaG",
        "colab": {
          "base_uri": "https://localhost:8080/"
        },
        "outputId": "f033b29b-b791-4de5-bcbd-fa42f9da04b4"
      },
      "execution_count": null,
      "outputs": [
        {
          "output_type": "stream",
          "name": "stdout",
          "text": [
            "Hi welcome to class of python language\n"
          ]
        }
      ]
    },
    {
      "cell_type": "code",
      "source": [
        "language = \"python\"\n",
        "print(\"Hi welcome to class of {language} language\") # if f is not include"
      ],
      "metadata": {
        "id": "BTPU6aE8cTJO",
        "colab": {
          "base_uri": "https://localhost:8080/"
        },
        "outputId": "71c77a8e-4331-44eb-ba18-4b73a9d29f50"
      },
      "execution_count": null,
      "outputs": [
        {
          "output_type": "stream",
          "name": "stdout",
          "text": [
            "Hi welcome to class of {language} language\n"
          ]
        }
      ]
    },
    {
      "cell_type": "code",
      "source": [
        "# f -> formatting string method\n",
        "num = \"first\"\n",
        "language = \"python\"\n",
        "print(f\"Today is the {num} class of {language} language\")  # current standard approach used in python"
      ],
      "metadata": {
        "id": "q2H4z1IZc38a",
        "colab": {
          "base_uri": "https://localhost:8080/"
        },
        "outputId": "bd08b322-ad42-4b00-b8ab-19df1ea75d25"
      },
      "execution_count": null,
      "outputs": [
        {
          "output_type": "stream",
          "name": "stdout",
          "text": [
            "Today is the first class of python language\n"
          ]
        }
      ]
    },
    {
      "cell_type": "code",
      "source": [
        "num = \"first\"\n",
        "language = \"python\"\n",
        "print(\"Today is the {} class of {} language \". format(num , language)) # old way"
      ],
      "metadata": {
        "id": "PY-5JVn5cjXh",
        "colab": {
          "base_uri": "https://localhost:8080/"
        },
        "outputId": "c5d188af-e0f7-4fb8-e79f-29dbf917bc14"
      },
      "execution_count": null,
      "outputs": [
        {
          "output_type": "stream",
          "name": "stdout",
          "text": [
            "Today is the first class of python language \n"
          ]
        }
      ]
    },
    {
      "cell_type": "code",
      "source": [
        "num = \" first \"\n",
        "language = \"python\"\n",
        "print(\"Today is the \"+num+\" class of \" +language+ \" language\") "
      ],
      "metadata": {
        "id": "a4DamxP-er5-",
        "colab": {
          "base_uri": "https://localhost:8080/"
        },
        "outputId": "a4b75363-6bed-4544-b6fb-fc9d1050229b"
      },
      "execution_count": null,
      "outputs": [
        {
          "output_type": "stream",
          "name": "stdout",
          "text": [
            "Today is the  first  class of python language\n"
          ]
        }
      ]
    },
    {
      "cell_type": "code",
      "source": [
        "a = 22\n",
        "b = 34 \n",
        "c = a+b\n",
        "print(f\"The result sum of two nums a: {a} and b: {b} is = {c}\") "
      ],
      "metadata": {
        "id": "QcWKpWM_fm4K",
        "colab": {
          "base_uri": "https://localhost:8080/"
        },
        "outputId": "aef6c6f1-cda4-40ad-952c-5602e2591391"
      },
      "execution_count": null,
      "outputs": [
        {
          "output_type": "stream",
          "name": "stdout",
          "text": [
            "The result sum of two nums a: 22 and b: 34 is = 56\n"
          ]
        }
      ]
    },
    {
      "cell_type": "markdown",
      "source": [
        "# boolean \n",
        "\n",
        "True False"
      ],
      "metadata": {
        "id": "ri4q1oLohS9Z"
      }
    },
    {
      "cell_type": "code",
      "source": [
        "one = True\n",
        "two = False\n",
        "\n",
        "print(type(one))\n",
        "print(type(two))"
      ],
      "metadata": {
        "id": "W8Pw1bbjgkwA",
        "colab": {
          "base_uri": "https://localhost:8080/"
        },
        "outputId": "ffb445f7-bb5e-464b-d421-e55bf3b7881f"
      },
      "execution_count": null,
      "outputs": [
        {
          "output_type": "stream",
          "name": "stdout",
          "text": [
            "<class 'bool'>\n",
            "<class 'bool'>\n"
          ]
        }
      ]
    },
    {
      "cell_type": "code",
      "source": [
        "class_starts_at = 1500 \n",
        "you_came_at = 1600\n",
        "you_understood_all_concept = you_came_at < class_starts_at\n",
        "\n",
        "print(f\"you understood everything ?:{you_understood_all_concept}\")"
      ],
      "metadata": {
        "id": "njsSEAwEhsAs",
        "colab": {
          "base_uri": "https://localhost:8080/"
        },
        "outputId": "14c6fb6e-9d87-4f68-a1d1-5d84da011d4f"
      },
      "execution_count": null,
      "outputs": [
        {
          "output_type": "stream",
          "name": "stdout",
          "text": [
            "you understood everything ?:False\n"
          ]
        }
      ]
    },
    {
      "cell_type": "code",
      "source": [
        "class_starts_at = 2\n",
        "you_came_at = 1\n",
        "you_understood_all_concept = you_came_at < class_starts_at\n",
        "\n",
        "print(f\"you understood everything ?:{you_understood_all_concept}\")"
      ],
      "metadata": {
        "id": "hcOIGxYC3d0L",
        "colab": {
          "base_uri": "https://localhost:8080/"
        },
        "outputId": "44ded596-8408-47e8-acae-b0e46523fcc8"
      },
      "execution_count": null,
      "outputs": [
        {
          "output_type": "stream",
          "name": "stdout",
          "text": [
            "you understood everything ?:True\n"
          ]
        }
      ]
    },
    {
      "cell_type": "code",
      "source": [],
      "metadata": {
        "id": "sFdwfvhQ5tsH"
      },
      "execution_count": null,
      "outputs": []
    },
    {
      "cell_type": "code",
      "source": [],
      "metadata": {
        "id": "jCP1SxHS6jW5"
      },
      "execution_count": null,
      "outputs": []
    }
  ]
}